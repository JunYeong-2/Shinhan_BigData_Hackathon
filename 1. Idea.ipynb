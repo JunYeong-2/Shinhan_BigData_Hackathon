{
 "cells": [
  {
   "cell_type": "markdown",
   "id": "a6a41c62-4d34-45a8-836e-07f5e788ab0e",
   "metadata": {},
   "source": [
    "## idea1"
   ]
  },
  {
   "cell_type": "code",
   "execution_count": null,
   "id": "d09caab4-5c4a-41d3-832b-ff1531068fc0",
   "metadata": {},
   "outputs": [],
   "source": [
    "'''\n",
    "null 값 vs null 아닌 값 분리하여 추천 시스템 진행\n",
    "\n",
    "1. null 값인 경우 신한라이프 고객 이용수가 적음.\n",
    "-> 신규 진입자 다수 필요\n",
    "\n",
    "2. null이 아닌 경우 신한 라이프 이용 고객\n",
    "-> 기존 이용자\n",
    "\n",
    "이 둘 사이 어떤 차이가 있는지 확인해보기\n",
    "즉, 소비 내역 or 투자 내역 등등\n",
    "\n",
    "'''"
   ]
  },
  {
   "cell_type": "markdown",
   "id": "f35d3471-fc7d-4ca4-a06b-b1d805bf0172",
   "metadata": {},
   "source": [
    "## idea2"
   ]
  },
  {
   "cell_type": "code",
   "execution_count": null,
   "id": "b13ed42f-5892-425c-af4a-b84befd66a03",
   "metadata": {},
   "outputs": [],
   "source": [
    "'''\n",
    "연도 2년 단위로 구분\n",
    "\n",
    "08~10 : 여름\n",
    "\n",
    "12~2 : 겨울\n",
    "\n",
    "4~6 : 봄\n",
    "\n",
    "계절별 어떤 트렌드의 변화가 있었는지 살펴본 후 해당 흐름에 맞게 추천?!\n",
    "- 의문 : 계절별 보험 상품에 따라 차이가 있을까?\n",
    "\n",
    "해야할일\n",
    "1. 계절별 분포 차이 확인하기\n",
    "2. 다음 계절로 넘어갈 때 차이가 크게 있었는지 확인 -> ex) 겨울 -> 봄 시즌에 갑자기 생명 보험 비율 증가\n",
    "-> 즉, 계절별 분포가 차이가 있는지\n",
    "\n",
    "'''"
   ]
  },
  {
   "cell_type": "markdown",
   "id": "554708d0-9090-48ea-a29e-40f72be22843",
   "metadata": {},
   "source": [
    "## idea3"
   ]
  },
  {
   "cell_type": "code",
   "execution_count": null,
   "id": "0b22435f-9f14-40ed-921a-b9176379aa62",
   "metadata": {},
   "outputs": [],
   "source": [
    "'''\n",
    "score 만들기 : 계절 + 기본 정보 등등으로\n",
    "-> 어떤 보험을 추천해줘야하는지\n",
    "\n",
    "softmax 처럼 각 보험에 대해 확률적으로 접근하기\n",
    "'''"
   ]
  },
  {
   "cell_type": "code",
   "execution_count": null,
   "id": "34862dd1-e45e-4a68-a05a-e43615efcc95",
   "metadata": {},
   "outputs": [],
   "source": [
    "'''\n",
    "# 라이프 이용 집단\n",
    "    1 : 타 서비스에서도 결측치가 아예 없는 우수 집단\n",
    "\n",
    "    2 : 결측치가 하나라도 있는 집단\n",
    "\n",
    "# 라이프 미이용 집단\n",
    "'''"
   ]
  },
  {
   "cell_type": "markdown",
   "id": "a2b6b8ef-cff5-4450-ad3a-298d094ad5a6",
   "metadata": {},
   "source": [
    "## idea4"
   ]
  },
  {
   "cell_type": "code",
   "execution_count": null,
   "id": "d402e3f8-6f2b-42bf-9e54-33426e4265df",
   "metadata": {},
   "outputs": [],
   "source": [
    "'''\n",
    "la01r\t최근1년 신규 종신 보험계약 고객의 비율\n",
    "la02r\t최근1년 신규 건강 보험계약 고객의 비율\n",
    "la03r\t최근1년 신규 상해 보험계약 고객의 비율\n",
    "la04r\t최근1년 신규 어린이 보험계약 고객의 비율\n",
    "la05r\t최근1년 신규 연금저축 보험계약 고객의 비율\n",
    "la06r\t최근1년 신규 변액 보험계약 고객의 비율\n",
    "la07r\t최근1년 신규 기타 보험계약 고객의 비율\n",
    "\n",
    "-> 이거 시계열로 만들어서 확인해보기 즉, 보험 변동성이 없는 집단 vs 있는 집단 나누어서\n",
    "변화 크면 보험 상품에 관심 크다는 의미\n",
    "'''"
   ]
  },
  {
   "cell_type": "code",
   "execution_count": null,
   "id": "69c85c80-c728-49ca-b075-b19e7b08adca",
   "metadata": {},
   "outputs": [],
   "source": [
    "'''\n",
    "슬로건 : 택시 아껴 미래에 투자하세요\n",
    "\n",
    "sc11r\t투자등급코드 공격투자형(1등급) 고객 비율\n",
    "sc12r\t투자등급코드 적극투자형(2등급) 고객 비율\n",
    "sc13r\t투자등급코드 위험중립형(3등급) 고객 비율\n",
    "sc14r\t투자등급코드 안정추구형(4등급) 고객 비율\n",
    "sc15r\t투자등급코드 안정형(5등급) 고객 비율\n",
    "\n",
    "이것도 활용해보기\n",
    "'''"
   ]
  },
  {
   "cell_type": "code",
   "execution_count": null,
   "id": "5478b524-695d-4090-9e56-dc81993e05ee",
   "metadata": {},
   "outputs": [],
   "source": []
  },
  {
   "cell_type": "code",
   "execution_count": null,
   "id": "91005d9e-f19c-46ea-b169-02829d3dd807",
   "metadata": {},
   "outputs": [],
   "source": [
    "'''\n",
    "팀원들에게 질문하기 ppt : 신한라이프는 사람의 생명과 연관 된 보험상품을 개발/판매 하는 비즈니스를 영위하고 있으며,\n",
    "보험 상품 外 보험계약대출(舊약관대출) 및 신용대출 등을 제공\n",
    "\n",
    "\n",
    "멘토님께 질문하기 : \n",
    "\n",
    "(1)\n",
    "bd24m\t유동성거래 중 타행으로부터 평균 입금금액\n",
    "bd26m\t유동성거래 중 타행의 본인계좌로부터 평균 입금금액\n",
    "bd28m\t유동성거래 중 타행으로 지급한 평균 금액\n",
    "bd30m\t유동성거래 중 타행의 본인계좌로 지급한 평균 거래금액\n",
    ": 해당 내용을 월급으로 통칭할 수 있을지?\n",
    "\n",
    "(2)\n",
    "bd08m\t유동성거래 중 신용카드지급(카드사(신한카드 등)의 신용카드를 결제처리하는 거래) 평균 거래금액\n",
    "bd10m\t유동성거래 중 체크카드결제(카드사(신한카드 등)의 체크카드를 결제처리하는 거래) 평균 금액\n",
    "\n",
    "bd12m\t유동성거래 중 보험료 평균 지급금액\n",
    "bd14m\t유동성거래 중 통신비 평균 지급금액\n",
    "bd16m\t유동성거래 중 기타공과금 평균 지급금액\n",
    ": bd08m, bd10m에는 bd12m, bd14m, bd14m이 포함된 것인지 아닌지\n",
    "\n",
    "(3)\n",
    "20대 중순~후반은 왜 bd26m가 매우 적을까?\n",
    "100만원도 안됌 -> 취준생?\n",
    "그렇다면 20대 초반은?\n",
    "\n",
    "(4)\n",
    "방향성이 맞는지 질문\n",
    "target을 20-30대 신혼 부부로 잡고, 해당 target을 위한 보험 상품 개발\n",
    "\n",
    "'''"
   ]
  },
  {
   "cell_type": "code",
   "execution_count": null,
   "id": "f531ff7a-e4a3-4a92-bc50-dd852c801732",
   "metadata": {},
   "outputs": [],
   "source": []
  },
  {
   "cell_type": "code",
   "execution_count": null,
   "id": "eec62490-914b-4372-8dba-6499e3178b78",
   "metadata": {},
   "outputs": [],
   "source": []
  }
 ],
 "metadata": {
  "kernelspec": {
   "display_name": "Python 3 (ipykernel)",
   "language": "python",
   "name": "python3"
  },
  "language_info": {
   "codemirror_mode": {
    "name": "ipython",
    "version": 3
   },
   "file_extension": ".py",
   "mimetype": "text/x-python",
   "name": "python",
   "nbconvert_exporter": "python",
   "pygments_lexer": "ipython3",
   "version": "3.10.13"
  }
 },
 "nbformat": 4,
 "nbformat_minor": 5
}
